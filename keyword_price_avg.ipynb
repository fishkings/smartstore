{
 "cells": [
  {
   "cell_type": "code",
   "execution_count": 8,
   "id": "b67ca2f3",
   "metadata": {},
   "outputs": [],
   "source": [
    "import pandas as pd\n",
    "import numpy as np\n",
    "\n",
    "import requests\n",
    "from bs4 import BeautifulSoup\n",
    "import requests\n",
    "import time"
   ]
  },
  {
   "cell_type": "code",
   "execution_count": 108,
   "id": "986e8141",
   "metadata": {},
   "outputs": [],
   "source": [
    "data = pd.read_csv(\"data/category/sorted_total_store.csv\")\n",
    "keywords = data[\"relative_keyword\"]"
   ]
  },
  {
   "cell_type": "code",
   "execution_count": 117,
   "id": "428465be",
   "metadata": {},
   "outputs": [
    {
     "data": {
      "text/plain": [
       "0          제모제\n",
       "1       유아세탁세제\n",
       "2       기저귀휴지통\n",
       "3          카테킨\n",
       "4         파우더통\n",
       "         ...  \n",
       "1607        잡화\n",
       "1608        의류\n",
       "1609        여성\n",
       "1610        패션\n",
       "1611        생활\n",
       "Name: relative_keyword, Length: 1612, dtype: object"
      ]
     },
     "execution_count": 117,
     "metadata": {},
     "output_type": "execute_result"
    }
   ],
   "source": [
    "keywords"
   ]
  },
  {
   "cell_type": "code",
   "execution_count": 119,
   "id": "f447fc7e",
   "metadata": {},
   "outputs": [
    {
     "name": "stdout",
     "output_type": "stream",
     "text": [
      "34,000원\n",
      "12,400원\n"
     ]
    }
   ],
   "source": [
    "# 부족한 예시\n",
    "tmp = \"키보드\"\n",
    "url = (\"https://search.shopping.naver.com/search/all?frm=NVSCPRO&origQuery&\"\n",
    "       \"pagingSize=80&\"\n",
    "       \"&productSet=total&\"\n",
    "       f\"query={tmp}&\"\n",
    "       \"sort=rel&\"\n",
    "       \"timestamp=&\"\n",
    "       \"viewType=list\")\n",
    "headers={'User-agent': 'Mozilla/5.0'}\n",
    "\n",
    "response = requests.get(url=url, headers=headers)\n",
    "html = response.text\n",
    "soup = BeautifulSoup(html,\"html.parser\")\n",
    "lsts = soup.select(\".product_price_area__eTg7I .price_num__S2p_v\")\n",
    "for lst in lsts:\n",
    "    print(lst.text)\n",
    "\n",
    "# html = response.text\n",
    "# soup = BeautifulSoup(html,\"html.parser\")\n",
    "# articles = soup.select(\"div.info_group\")\n",
    "\n"
   ]
  },
  {
   "cell_type": "code",
   "execution_count": 116,
   "id": "8356ac5e",
   "metadata": {},
   "outputs": [
    {
     "data": {
      "text/plain": [
       "'https://search.shopping.naver.com/search/all?frm=NVSCPRO&origQuery&pagingSize=80&&productSet=total&query=세제&sort=rel&timestamp=&viewType=list'"
      ]
     },
     "execution_count": 116,
     "metadata": {},
     "output_type": "execute_result"
    }
   ],
   "source": [
    "url"
   ]
  },
  {
   "cell_type": "code",
   "execution_count": 122,
   "id": "69d25fe7",
   "metadata": {
    "scrolled": false
   },
   "outputs": [
    {
     "name": "stdout",
     "output_type": "stream",
     "text": [
      "키보드 : 102593.9\n"
     ]
    }
   ],
   "source": [
    "import requests\n",
    "import json\n",
    "\n",
    "cookies = {\n",
    "    'NNB': '6TTK2RJU3JPWG',\n",
    "    'autocomplete': 'use',\n",
    "    'AD_SHP_BID': '23',\n",
    "    '_ga': 'GA1.2.1198469368.1669035888',\n",
    "    'NV_WETR_LOCATION_RGN_M': '\"MDUxMTAxMTE=\"',\n",
    "    'ASID': '6f5bbfa400000184fa368e5f00000067',\n",
    "    'SHP_BUCKET_ID': '4',\n",
    "    'NV_WETR_LAST_ACCESS_RGN_M': '\"MDUxMTAxMTE=\"',\n",
    "    'NID_AUT': 'xDAIttoc1Atdn7rAs4Y+rogecRjh3p1xevXbJnm0Nr0CEioRQ5/hhmRFwExAG7+T',\n",
    "    'NID_JKL': 'b+0nlz0gwdbCoxClpc3utji+0en89OQHe0BEDbaUv/Y=',\n",
    "    'nx_ssl': '2',\n",
    "    'Viking_Rise_visit_time': '1695077035991',\n",
    "    'page_uid': 'ifYbMdprvTVsse385PlssssssE0-160453',\n",
    "    'spage_uid': 'ifYbMdprvTVsse385PlssssssE0-160453',\n",
    "    'NID_SES': 'AAABxneIb+UGNfkjN7HA2gA5OlFQfYJVR367v6fonQYo1gBA+STpwnmSQKvPHCtKl9cSOobgAMZTANOk4CCrBDXAZ+8+xr6VQ9Ezi+8ApV32H/Cwi7PkDkvMuZ3QqwE0RmlD2gBOkdM8F5e33pm7MmNSfpFFusRSCaFir0+c2j3yksaJFDdG9PWn6RxWHTn0JXWu880PKz+pLfdysAibvruAtoxZbtdsvNi3dzUkiI74c14ilruNwmeJ+WmNLRwD79YtsmBgjQd8yEFd2P1MbddwtdfBqqrvIg9mgVAbGhHj86VEjcOAN0a8W84w7vJnGqR5AvPZp6ANSE7LBBYR6BN4RjlHsqne/i39lWovcl8zlv3X//TRlaZFjsdpIdPtHtEPum7wMp0eB+7nLpwAd3Wqz3Ku7eVW9ZH+cwnQwPuLEr3cfZT1scFz3Evmwa4DZWtNXVbACznRMQbUJMYBaN6+kt/PjN932m5O5S1ked50/18fduz9Ga5UzgUJwG86kA2Yj6uX0EJtos8uyYEuUpkHRgKtLkWwSDzI/Qq1281rtR5EslmrYPIicx0eGzIfCGV22q72LUyRwqROGp75LdZlMcC6mJd95X42HzhYacCFvSyx',\n",
    "    'sus_val': 'oosk3W1yUa/jXC7KKHHcV8KC',\n",
    "    'ncpa': '5114254|lnq2oiag|6088f8339ff87318d5466310aa33bd3df5f4ee8e|s_21a15037d5896|4a037b7e1ad4f4b2b46b7552bf557d83d6e09c69:4801924|lnq2r5yw|252c45b5b1c89d88d92fb4fd42bf99065652c3d4|s_1aec08c8356c9|4a0769694c3e60ffa7b878ff1e700b5ee7a31a93:95694|lnq2t46o|8f47110d725d91bc72e3083c0376c78965d77ffe|95694|28deee716df4986a1bc2f535eccb8e15165491ff:114|lnrg1u34|6c1e428c1fdcf6109a6e368afd36c2c6547842b5|s_1f0b6dd34481|0d9a8a153a4fd6f9e60247ee72a897423e0d11c7',\n",
    "}\n",
    "\n",
    "headers = {\n",
    "    'authority': 'search.shopping.naver.com',\n",
    "    'accept': 'application/json, text/plain, */*',\n",
    "    'accept-language': 'ko-KR,ko;q=0.9,en-US;q=0.8,en;q=0.7',\n",
    "    # 'cookie': 'NNB=6TTK2RJU3JPWG; autocomplete=use; AD_SHP_BID=23; _ga=GA1.2.1198469368.1669035888; NV_WETR_LOCATION_RGN_M=\"MDUxMTAxMTE=\"; ASID=6f5bbfa400000184fa368e5f00000067; SHP_BUCKET_ID=4; NV_WETR_LAST_ACCESS_RGN_M=\"MDUxMTAxMTE=\"; NID_AUT=xDAIttoc1Atdn7rAs4Y+rogecRjh3p1xevXbJnm0Nr0CEioRQ5/hhmRFwExAG7+T; NID_JKL=b+0nlz0gwdbCoxClpc3utji+0en89OQHe0BEDbaUv/Y=; nx_ssl=2; Viking_Rise_visit_time=1695077035991; page_uid=ifYbMdprvTVsse385PlssssssE0-160453; spage_uid=ifYbMdprvTVsse385PlssssssE0-160453; NID_SES=AAABxneIb+UGNfkjN7HA2gA5OlFQfYJVR367v6fonQYo1gBA+STpwnmSQKvPHCtKl9cSOobgAMZTANOk4CCrBDXAZ+8+xr6VQ9Ezi+8ApV32H/Cwi7PkDkvMuZ3QqwE0RmlD2gBOkdM8F5e33pm7MmNSfpFFusRSCaFir0+c2j3yksaJFDdG9PWn6RxWHTn0JXWu880PKz+pLfdysAibvruAtoxZbtdsvNi3dzUkiI74c14ilruNwmeJ+WmNLRwD79YtsmBgjQd8yEFd2P1MbddwtdfBqqrvIg9mgVAbGhHj86VEjcOAN0a8W84w7vJnGqR5AvPZp6ANSE7LBBYR6BN4RjlHsqne/i39lWovcl8zlv3X//TRlaZFjsdpIdPtHtEPum7wMp0eB+7nLpwAd3Wqz3Ku7eVW9ZH+cwnQwPuLEr3cfZT1scFz3Evmwa4DZWtNXVbACznRMQbUJMYBaN6+kt/PjN932m5O5S1ked50/18fduz9Ga5UzgUJwG86kA2Yj6uX0EJtos8uyYEuUpkHRgKtLkWwSDzI/Qq1281rtR5EslmrYPIicx0eGzIfCGV22q72LUyRwqROGp75LdZlMcC6mJd95X42HzhYacCFvSyx; sus_val=oosk3W1yUa/jXC7KKHHcV8KC; ncpa=5114254|lnq2oiag|6088f8339ff87318d5466310aa33bd3df5f4ee8e|s_21a15037d5896|4a037b7e1ad4f4b2b46b7552bf557d83d6e09c69:4801924|lnq2r5yw|252c45b5b1c89d88d92fb4fd42bf99065652c3d4|s_1aec08c8356c9|4a0769694c3e60ffa7b878ff1e700b5ee7a31a93:95694|lnq2t46o|8f47110d725d91bc72e3083c0376c78965d77ffe|95694|28deee716df4986a1bc2f535eccb8e15165491ff:114|lnrg1u34|6c1e428c1fdcf6109a6e368afd36c2c6547842b5|s_1f0b6dd34481|0d9a8a153a4fd6f9e60247ee72a897423e0d11c7',\n",
    "    'logic': 'PART',\n",
    "    'referer': 'https://search.shopping.naver.com/search/all?frm=NVSCPRO&origQuery&pagingSize=80&&productSet=total&query=%EC%84%B8%EC%A0%9C&sort=rel&timestamp=&viewType=list',\n",
    "    'sbth': 'd222b49238bd2b7f29803e2ed2f08d01eedaa3d14d24417197e36287d8d5eae0ca4c01288a05847bfed167eb56487188',\n",
    "    'sec-ch-ua': '\"Chromium\";v=\"118\", \"Google Chrome\";v=\"118\", \"Not=A?Brand\";v=\"99\"',\n",
    "    'sec-ch-ua-arch': '\"x86\"',\n",
    "    'sec-ch-ua-bitness': '\"64\"',\n",
    "    'sec-ch-ua-full-version-list': '\"Chromium\";v=\"118.0.5993.70\", \"Google Chrome\";v=\"118.0.5993.70\", \"Not=A?Brand\";v=\"99.0.0.0\"',\n",
    "    'sec-ch-ua-mobile': '?0',\n",
    "    'sec-ch-ua-model': '\"\"',\n",
    "    'sec-ch-ua-platform': '\"Windows\"',\n",
    "    'sec-ch-ua-platform-version': '\"15.0.0\"',\n",
    "    'sec-ch-ua-wow64': '?0',\n",
    "    'sec-fetch-dest': 'empty',\n",
    "    'sec-fetch-mode': 'cors',\n",
    "    'sec-fetch-site': 'same-origin',\n",
    "    'user-agent': 'Mozilla/5.0 (Windows NT 10.0; Win64; x64) AppleWebKit/537.36 (KHTML, like Gecko) Chrome/118.0.0.0 Safari/537.36',\n",
    "}\n",
    "\n",
    "params = {\n",
    "    'frm': 'NVSCPRO',\n",
    "    'pagingIndex': '1',\n",
    "    'pagingSize': '100',\n",
    "    'productSet': 'total',\n",
    "    f'query': \"키보드\",\n",
    "    'sort': 'rel',\n",
    "    'viewType': 'list',\n",
    "}\n",
    "\n",
    "response = requests.get('https://search.shopping.naver.com/api/search/all', params=params, cookies=cookies, headers=headers)\n",
    "itemlist = json.loads(response.text)\n",
    "\n",
    "sum = 0\n",
    "for idx,i in enumerate(itemlist['shoppingResult']['products']):\n",
    "    price = i['price'],\n",
    "    price =  int(price[0])\n",
    "    sum += price\n",
    "\n",
    "\n",
    "avg = sum / len(itemlist['shoppingResult']['products'])\n",
    "print(f\"키보드 : {avg}\")"
   ]
  },
  {
   "cell_type": "code",
   "execution_count": 110,
   "id": "be059f49",
   "metadata": {},
   "outputs": [
    {
     "name": "stdout",
     "output_type": "stream",
     "text": [
      "100\n"
     ]
    }
   ],
   "source": [
    "import json\n",
    "itemlist = json.loads(response.text)\n",
    "print(len(itemlist['shoppingResult']['products']))"
   ]
  },
  {
   "cell_type": "code",
   "execution_count": 112,
   "id": "d48ebbcc",
   "metadata": {},
   "outputs": [
    {
     "name": "stdout",
     "output_type": "stream",
     "text": [
      "13188.7\n"
     ]
    }
   ],
   "source": [
    "sum = 0\n",
    "for idx,i in enumerate(itemlist['shoppingResult']['products']):\n",
    "    price = i['price'],\n",
    "    price =  int(price[0])\n",
    "    sum += price\n",
    "    \n",
    "avg = sum / len(itemlist['shoppingResult']['products'])\n",
    "print(avg)"
   ]
  },
  {
   "cell_type": "code",
   "execution_count": null,
   "id": "0acae901",
   "metadata": {},
   "outputs": [],
   "source": []
  }
 ],
 "metadata": {
  "kernelspec": {
   "display_name": "Python 3 (ipykernel)",
   "language": "python",
   "name": "python3"
  },
  "language_info": {
   "codemirror_mode": {
    "name": "ipython",
    "version": 3
   },
   "file_extension": ".py",
   "mimetype": "text/x-python",
   "name": "python",
   "nbconvert_exporter": "python",
   "pygments_lexer": "ipython3",
   "version": "3.10.0rc2"
  }
 },
 "nbformat": 4,
 "nbformat_minor": 5
}
