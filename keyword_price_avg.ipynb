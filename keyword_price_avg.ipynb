{
 "cells": [
  {
   "cell_type": "code",
   "execution_count": 1,
   "id": "b67ca2f3",
   "metadata": {},
   "outputs": [],
   "source": [
    "import pandas as pd\n",
    "import numpy as np\n",
    "\n",
    "import requests\n",
    "from bs4 import BeautifulSoup\n",
    "import time"
   ]
  },
  {
   "cell_type": "code",
   "execution_count": 12,
   "id": "986e8141",
   "metadata": {},
   "outputs": [],
   "source": [
    "data = pd.read_csv(\"data/category/sorted_total_store.csv\")\n",
    "keyword = data[\"relative_keyword\"]"
   ]
  },
  {
   "cell_type": "code",
   "execution_count": 13,
   "id": "f447fc7e",
   "metadata": {},
   "outputs": [
    {
     "data": {
      "text/plain": [
       "'유아세탁세제'"
      ]
     },
     "execution_count": 13,
     "metadata": {},
     "output_type": "execute_result"
    }
   ],
   "source": [
    "tmp = \"세제\"\n",
    "response = requests.get(f\"https://search.naver.com/search.naver?sm=tab_hty.top&where=news&query={keyword}&start={lastpage}\")\n",
    "html = response.text\n",
    "soup = BeautifulSoup(html,\"html.parser\")\n",
    "articles = soup.select(\"div.info_group\")\n",
    "\n"
   ]
  },
  {
   "cell_type": "code",
   "execution_count": null,
   "id": "69d25fe7",
   "metadata": {},
   "outputs": [],
   "source": []
  }
 ],
 "metadata": {
  "kernelspec": {
   "display_name": "Python 3 (ipykernel)",
   "language": "python",
   "name": "python3"
  },
  "language_info": {
   "codemirror_mode": {
    "name": "ipython",
    "version": 3
   },
   "file_extension": ".py",
   "mimetype": "text/x-python",
   "name": "python",
   "nbconvert_exporter": "python",
   "pygments_lexer": "ipython3",
   "version": "3.10.0rc2"
  }
 },
 "nbformat": 4,
 "nbformat_minor": 5
}
