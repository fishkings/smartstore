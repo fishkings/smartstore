{
 "cells": [
  {
   "cell_type": "markdown",
   "id": "LCdDuUTceau3",
   "metadata": {
    "id": "LCdDuUTceau3"
   },
   "source": [
    "<font color=\"firebrick\" size=\"6\"><b>대표 키워드 분석 </b></font>"
   ]
  },
  {
   "cell_type": "markdown",
   "id": "fd672c1c",
   "metadata": {},
   "source": [
    "- 데이터 중복 제거\n",
    "- total_store < 50000 제거"
   ]
  },
  {
   "cell_type": "markdown",
   "id": "1789f8e7",
   "metadata": {},
   "source": [
    "**데이터 불러오기**"
   ]
  },
  {
   "cell_type": "code",
   "execution_count": null,
   "id": "2ibSt3JhkTwF",
   "metadata": {
    "executionInfo": {
     "elapsed": 1089,
     "status": "ok",
     "timestamp": 1695633369846,
     "user": {
      "displayName": "김제림",
      "userId": "09083624692368886930"
     },
     "user_tz": -540
    },
    "id": "2ibSt3JhkTwF"
   },
   "outputs": [],
   "source": [
    "import numpy as np\n",
    "import pandas as pd\n",
    "import matplotlib.pyplot as plt\n",
    "import seaborn as sns\n",
    "import os"
   ]
  },
  {
   "cell_type": "markdown",
   "id": "e80119ec",
   "metadata": {},
   "source": [
    "**상대경로로 가져 올 경우 ls와 cd로 현재 경로 맞춰주기**"
   ]
  },
  {
   "cell_type": "code",
   "execution_count": null,
   "id": "6410d4df",
   "metadata": {},
   "outputs": [],
   "source": [
    "os.chdir(\"../../../smartstore\") # signaturehelper module 호출하기 위해 경로 설정"
   ]
  },
  {
   "cell_type": "code",
   "execution_count": null,
   "id": "cd5380cc",
   "metadata": {},
   "outputs": [],
   "source": [
    "os.getcwd()"
   ]
  },
  {
   "cell_type": "code",
   "execution_count": null,
   "id": "CWX6CMr6IElj",
   "metadata": {
    "colab": {
     "base_uri": "https://localhost:8080/",
     "height": 423
    },
    "executionInfo": {
     "elapsed": 368,
     "status": "ok",
     "timestamp": 1695633562224,
     "user": {
      "displayName": "김제림",
      "userId": "09083624692368886930"
     },
     "user_tz": -540
    },
    "id": "CWX6CMr6IElj",
    "outputId": "e2d93042-e4ef-49f7-9aab-6bf7362bd2f0"
   },
   "outputs": [],
   "source": [
    "data = pd.read_csv(r\"conditionedData/data/tmp_1.csv\")\n",
    "data"
   ]
  },
  {
   "cell_type": "code",
   "execution_count": null,
   "id": "41a7ac93",
   "metadata": {},
   "outputs": [],
   "source": [
    "data.shape"
   ]
  },
  {
   "cell_type": "markdown",
   "id": "b0939878",
   "metadata": {},
   "source": [
    "<font color=\"Maroon\" size=\"5\"><b>데이터 중복 제거</b></font>"
   ]
  },
  {
   "cell_type": "code",
   "execution_count": null,
   "id": "ESUiEVYJoGXl",
   "metadata": {
    "executionInfo": {
     "elapsed": 4,
     "status": "ok",
     "timestamp": 1695633582936,
     "user": {
      "displayName": "김제림",
      "userId": "09083624692368886930"
     },
     "user_tz": -540
    },
    "id": "ESUiEVYJoGXl"
   },
   "outputs": [],
   "source": [
    "# relative_keyword의 중복값 제거  \n",
    "data.drop_duplicates([\"relative_keyword\"],inplace=True)\n",
    "data.index = np.arange(1,len(data)+1)"
   ]
  },
  {
   "cell_type": "code",
   "execution_count": null,
   "id": "f666515f",
   "metadata": {},
   "outputs": [],
   "source": [
    "data"
   ]
  },
  {
   "cell_type": "markdown",
   "id": "192f68ba",
   "metadata": {},
   "source": [
    "<font color=\"Maroon\" size=\"5\"><b>데이터 요약</b></font>"
   ]
  },
  {
   "cell_type": "code",
   "execution_count": null,
   "id": "aWlhVdhbl6AW",
   "metadata": {
    "colab": {
     "base_uri": "https://localhost:8080/",
     "height": 300
    },
    "executionInfo": {
     "elapsed": 12,
     "status": "ok",
     "timestamp": 1695633600863,
     "user": {
      "displayName": "김제림",
      "userId": "09083624692368886930"
     },
     "user_tz": -540
    },
    "id": "aWlhVdhbl6AW",
    "outputId": "04375319-f1fc-4e59-ff9b-dcb4a305c00c"
   },
   "outputs": [],
   "source": [
    "# 데이터 describe\n",
    "pd.options.display.float_format = '{:.2f}'.format\n",
    "data.describe()"
   ]
  },
  {
   "cell_type": "markdown",
   "id": "db12152f",
   "metadata": {},
   "source": [
    "<font color=\"Maroon\" size=\"5\"><b>데이터 순서 정렬</b></font>"
   ]
  },
  {
   "cell_type": "code",
   "execution_count": null,
   "id": "70637646",
   "metadata": {},
   "outputs": [],
   "source": [
    "# 데이터 \"총 검색량\" 오름차순\n",
    "pd.set_option('display.max_rows', None)\n",
    "data.sort_values(by=[\"total_search\"])"
   ]
  },
  {
   "cell_type": "code",
   "execution_count": null,
   "id": "ba739382",
   "metadata": {},
   "outputs": [],
   "source": [
    "# 데이터 \"총 스토어수\" 오름차순\n",
    "pd.set_option('display.max_rows', None)\n",
    "data.sort_values(by=[\"total_store_count\"])"
   ]
  },
  {
   "cell_type": "code",
   "execution_count": null,
   "id": "e005324e",
   "metadata": {},
   "outputs": [],
   "source": [
    "data[\"total_store_count\"].describe()"
   ]
  },
  {
   "cell_type": "code",
   "execution_count": null,
   "id": "7566a51c",
   "metadata": {},
   "outputs": [],
   "source": [
    "data[data[\"total_store_count\"] > 1000]"
   ]
  },
  {
   "cell_type": "code",
   "execution_count": null,
   "id": "8f7ca066",
   "metadata": {},
   "outputs": [],
   "source": [
    "# 클릭량 1만개 이상\n",
    "tmp = data[(data[\"total_search\"] > 10000) & (data[\"total_store_count\"] < 20000)]\n",
    "tmp.sort_values(by=[\"competitive_rate\"])"
   ]
  },
  {
   "cell_type": "code",
   "execution_count": null,
   "id": "87dff19b",
   "metadata": {},
   "outputs": [],
   "source": []
  },
  {
   "cell_type": "markdown",
   "id": "645672d9",
   "metadata": {},
   "source": [
    "1. 경쟁률이 낮다고 좋은게 아님 ->  판매가 안되는 것들  </br>\n",
    "    ex) 사전, 프로그래밍언어 등등</br></br>\n",
    "    \n",
    "2. 경쟁률이 높다고 무조건 나쁜게 아님 ->  키워드가 안좋아서 그런 경우 많음</br>\n",
    "    ex) 수작업공구 (검색율은 40인데 스토어수는 천만)\n"
   ]
  },
  {
   "cell_type": "code",
   "execution_count": null,
   "id": "0c287aef",
   "metadata": {},
   "outputs": [],
   "source": [
    "# total_store 기준으로 정렬\n",
    "sorted_total_store =data.sort_values(by=[\"total_store_count\"])\n",
    "new_sorted_total_store = sorted_total_store[sorted_total_store[\"total_store_count\"]>50000]\n",
    "\n",
    "len_total_store = len(new_sorted_total_store[\"relative_keyword\"])\n",
    "\n",
    "new_sorted_total_store.index = np.arange(len_total_store)\n",
    "\n",
    "new_sorted_total_store"
   ]
  },
  {
   "cell_type": "code",
   "execution_count": null,
   "id": "1293bc90",
   "metadata": {},
   "outputs": [],
   "source": [
    "new_sorted_total_store.to_csv(\"conditionedData/data/2_sort.csv\",index=False)"
   ]
  },
  {
   "cell_type": "markdown",
   "id": "a2c9555e",
   "metadata": {},
   "source": [
    "큰 카테고리로 분류를 한다면, 경쟁률보다는 스토어수가 더 중요할 것으로 판단"
   ]
  },
  {
   "cell_type": "markdown",
   "id": "351c98c7",
   "metadata": {},
   "source": [
    " "
   ]
  },
  {
   "cell_type": "markdown",
   "id": "f66de7ea",
   "metadata": {},
   "source": [
    " "
   ]
  },
  {
   "cell_type": "markdown",
   "id": "a8d0a5ed",
   "metadata": {},
   "source": [
    " "
   ]
  },
  {
   "cell_type": "markdown",
   "id": "4f906692",
   "metadata": {},
   "source": [
    " "
   ]
  },
  {
   "cell_type": "markdown",
   "id": "a4c1a9d9",
   "metadata": {},
   "source": [
    " "
   ]
  },
  {
   "cell_type": "markdown",
   "id": "26c844b0",
   "metadata": {},
   "source": [
    " "
   ]
  },
  {
   "cell_type": "markdown",
   "id": "d9ff5e4e",
   "metadata": {},
   "source": [
    " "
   ]
  }
 ],
 "metadata": {
  "kernelspec": {
   "display_name": "Python 3 (ipykernel)",
   "language": "python",
   "name": "python3"
  },
  "language_info": {
   "codemirror_mode": {
    "name": "ipython",
    "version": 3
   },
   "file_extension": ".py",
   "mimetype": "text/x-python",
   "name": "python",
   "nbconvert_exporter": "python",
   "pygments_lexer": "ipython3",
   "version": "3.10.0rc2"
  }
 },
 "nbformat": 4,
 "nbformat_minor": 5
}
