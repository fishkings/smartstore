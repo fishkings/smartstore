{
 "cells": [
  {
   "cell_type": "markdown",
   "id": "483c37d7",
   "metadata": {
    "ExecuteTime": {
     "end_time": "2023-11-22T04:45:47.752843Z",
     "start_time": "2023-11-22T04:45:47.734855Z"
    }
   },
   "source": [
    "<font color=\"firebrick\" size=\"6\"><b> 키워드 별 평균 매출 </b></font>"
   ]
  },
  {
   "cell_type": "markdown",
   "id": "fd63a02f",
   "metadata": {},
   "source": [
    "<font color=\"Maroon\" size=\"5\"><b>평균 가격 선별</b></font>"
   ]
  },
  {
   "cell_type": "code",
   "execution_count": 2,
   "id": "b7cbd962",
   "metadata": {
    "ExecuteTime": {
     "end_time": "2023-12-05T09:13:04.716737Z",
     "start_time": "2023-12-05T09:12:59.900921Z"
    }
   },
   "outputs": [],
   "source": [
    "import pandas as pd\n",
    "import numpy as np\n",
    "import matplotlib.pyplot as plt\n",
    "import requests\n",
    "from bs4 import BeautifulSoup\n",
    "import requests\n",
    "import time\n",
    "import os\n",
    "import warnings\n",
    "warnings.filterwarnings(\"ignore\")\n"
   ]
  },
  {
   "cell_type": "code",
   "execution_count": 3,
   "id": "dbfabfe0",
   "metadata": {
    "ExecuteTime": {
     "end_time": "2023-12-05T09:13:04.747552Z",
     "start_time": "2023-12-05T09:13:04.719925Z"
    }
   },
   "outputs": [
    {
     "data": {
      "text/plain": [
       "'C:\\\\Users\\\\chosun\\\\Desktop\\\\smartstore'"
      ]
     },
     "execution_count": 3,
     "metadata": {},
     "output_type": "execute_result"
    }
   ],
   "source": [
    "os.chdir(\"../../../smartstore\") # signaturehelper module 호출하기 위해 경로 설정\n",
    "os.getcwd()"
   ]
  },
  {
   "cell_type": "code",
   "execution_count": 4,
   "id": "d6f5bf49",
   "metadata": {
    "ExecuteTime": {
     "end_time": "2023-12-05T09:13:04.870540Z",
     "start_time": "2023-12-05T09:13:04.750627Z"
    }
   },
   "outputs": [
    {
     "data": {
      "text/html": [
       "<div>\n",
       "<style scoped>\n",
       "    .dataframe tbody tr th:only-of-type {\n",
       "        vertical-align: middle;\n",
       "    }\n",
       "\n",
       "    .dataframe tbody tr th {\n",
       "        vertical-align: top;\n",
       "    }\n",
       "\n",
       "    .dataframe thead th {\n",
       "        text-align: right;\n",
       "    }\n",
       "</style>\n",
       "<table border=\"1\" class=\"dataframe\">\n",
       "  <thead>\n",
       "    <tr style=\"text-align: right;\">\n",
       "      <th></th>\n",
       "      <th>relative_keyword</th>\n",
       "      <th>total_search</th>\n",
       "      <th>total_store_count</th>\n",
       "      <th>competitive_rate</th>\n",
       "      <th>avg_price</th>\n",
       "    </tr>\n",
       "  </thead>\n",
       "  <tbody>\n",
       "    <tr>\n",
       "      <th>0</th>\n",
       "      <td>앱코키보드</td>\n",
       "      <td>14530.0</td>\n",
       "      <td>40613.0</td>\n",
       "      <td>2.80</td>\n",
       "      <td>73669.0</td>\n",
       "    </tr>\n",
       "    <tr>\n",
       "      <th>1</th>\n",
       "      <td>키즈경량패딩</td>\n",
       "      <td>28730.0</td>\n",
       "      <td>76995.0</td>\n",
       "      <td>2.68</td>\n",
       "      <td>76983.0</td>\n",
       "    </tr>\n",
       "    <tr>\n",
       "      <th>2</th>\n",
       "      <td>후쿠오카버스투어</td>\n",
       "      <td>22720.0</td>\n",
       "      <td>546.0</td>\n",
       "      <td>0.02</td>\n",
       "      <td>58505.0</td>\n",
       "    </tr>\n",
       "    <tr>\n",
       "      <th>3</th>\n",
       "      <td>식전영상</td>\n",
       "      <td>27600.0</td>\n",
       "      <td>432.0</td>\n",
       "      <td>0.02</td>\n",
       "      <td>33231.0</td>\n",
       "    </tr>\n",
       "    <tr>\n",
       "      <th>4</th>\n",
       "      <td>면세점가방</td>\n",
       "      <td>3270.0</td>\n",
       "      <td>3436.0</td>\n",
       "      <td>1.05</td>\n",
       "      <td>106.0</td>\n",
       "    </tr>\n",
       "    <tr>\n",
       "      <th>...</th>\n",
       "      <td>...</td>\n",
       "      <td>...</td>\n",
       "      <td>...</td>\n",
       "      <td>...</td>\n",
       "      <td>...</td>\n",
       "    </tr>\n",
       "    <tr>\n",
       "      <th>27671</th>\n",
       "      <td>EMIS가방</td>\n",
       "      <td>12380.0</td>\n",
       "      <td>7205.0</td>\n",
       "      <td>0.58</td>\n",
       "      <td>43951.0</td>\n",
       "    </tr>\n",
       "    <tr>\n",
       "      <th>27672</th>\n",
       "      <td>나이키에코백</td>\n",
       "      <td>6410.0</td>\n",
       "      <td>1839.0</td>\n",
       "      <td>0.29</td>\n",
       "      <td>11203.0</td>\n",
       "    </tr>\n",
       "    <tr>\n",
       "      <th>27673</th>\n",
       "      <td>아페쎄에코백</td>\n",
       "      <td>9960.0</td>\n",
       "      <td>12389.0</td>\n",
       "      <td>1.24</td>\n",
       "      <td>86765.0</td>\n",
       "    </tr>\n",
       "    <tr>\n",
       "      <th>27674</th>\n",
       "      <td>이미스호보백</td>\n",
       "      <td>11450.0</td>\n",
       "      <td>1839.0</td>\n",
       "      <td>0.16</td>\n",
       "      <td>43885.0</td>\n",
       "    </tr>\n",
       "    <tr>\n",
       "      <th>27675</th>\n",
       "      <td>명품에코백</td>\n",
       "      <td>5400.0</td>\n",
       "      <td>48183.0</td>\n",
       "      <td>8.92</td>\n",
       "      <td>40870.0</td>\n",
       "    </tr>\n",
       "  </tbody>\n",
       "</table>\n",
       "<p>27676 rows × 5 columns</p>\n",
       "</div>"
      ],
      "text/plain": [
       "      relative_keyword  total_search  total_store_count  competitive_rate  \\\n",
       "0                앱코키보드       14530.0            40613.0              2.80   \n",
       "1               키즈경량패딩       28730.0            76995.0              2.68   \n",
       "2             후쿠오카버스투어       22720.0              546.0              0.02   \n",
       "3                 식전영상       27600.0              432.0              0.02   \n",
       "4                면세점가방        3270.0             3436.0              1.05   \n",
       "...                ...           ...                ...               ...   \n",
       "27671           EMIS가방       12380.0             7205.0              0.58   \n",
       "27672           나이키에코백        6410.0             1839.0              0.29   \n",
       "27673           아페쎄에코백        9960.0            12389.0              1.24   \n",
       "27674           이미스호보백       11450.0             1839.0              0.16   \n",
       "27675            명품에코백        5400.0            48183.0              8.92   \n",
       "\n",
       "       avg_price  \n",
       "0        73669.0  \n",
       "1        76983.0  \n",
       "2        58505.0  \n",
       "3        33231.0  \n",
       "4          106.0  \n",
       "...          ...  \n",
       "27671    43951.0  \n",
       "27672    11203.0  \n",
       "27673    86765.0  \n",
       "27674    43885.0  \n",
       "27675    40870.0  \n",
       "\n",
       "[27676 rows x 5 columns]"
      ]
     },
     "execution_count": 4,
     "metadata": {},
     "output_type": "execute_result"
    }
   ],
   "source": [
    "data = pd.read_csv(\"conditionedData/data/3_avg_price/3_avg_price_requests.csv\")\n",
    "data"
   ]
  },
  {
   "cell_type": "code",
   "execution_count": null,
   "id": "4f94208f",
   "metadata": {},
   "outputs": [],
   "source": [
    "# pd.options.display.max_rows = None  \n",
    "# data.sort_values(\"avg_price\")"
   ]
  },
  {
   "cell_type": "code",
   "execution_count": null,
   "id": "6563fddf",
   "metadata": {},
   "outputs": [],
   "source": [
    "\"\"\"배송비도 이하 또는 $ 표기 제외 + 10만원 이하 가격 선별 \"\"\"\n",
    "pd.options.display.max_rows = None  \n",
    "data_tmp = data[(data[\"avg_price\"]>6000) & (data[\"avg_price\"]<100000 )]\n",
    "data_tmp.index = np.arange(len(data_tmp[\"relative_keyword\"]))\n",
    "data_tmp"
   ]
  },
  {
   "cell_type": "code",
   "execution_count": null,
   "id": "1ceb9b09",
   "metadata": {},
   "outputs": [],
   "source": [
    "# 평균 가격으로 선별한 프레임을 data에 할당\n",
    "pd.options.display.max_rows = 100\n",
    "data = data_tmp"
   ]
  },
  {
   "cell_type": "code",
   "execution_count": null,
   "id": "3509e95d",
   "metadata": {},
   "outputs": [],
   "source": []
  },
  {
   "cell_type": "markdown",
   "id": "2251bf94",
   "metadata": {},
   "source": [
    "<font color=\"Maroon\" size=\"5\"><b>키워드 별 평균 매출 </b></font>"
   ]
  },
  {
   "cell_type": "code",
   "execution_count": null,
   "id": "0f05cb37",
   "metadata": {
    "ExecuteTime": {
     "end_time": "2023-11-22T09:19:19.454592Z",
     "start_time": "2023-11-22T09:19:19.441603Z"
    }
   },
   "outputs": [],
   "source": [
    "import json\n",
    "\n",
    "cookies = {\n",
    "    'NNB': '6TTK2RJU3JPWG',\n",
    "    'autocomplete': 'use',\n",
    "    'AD_SHP_BID': '23',\n",
    "    '_ga': 'GA1.2.1198469368.1669035888',\n",
    "    'NV_WETR_LOCATION_RGN_M': '\"MDUxMTAxMTE=\"',\n",
    "    'ASID': '6f5bbfa400000184fa368e5f00000067',\n",
    "    'SHP_BUCKET_ID': '4',\n",
    "    'NV_WETR_LAST_ACCESS_RGN_M': '\"MDUxMTAxMTE=\"',\n",
    "    'NID_AUT': 'xDAIttoc1Atdn7rAs4Y+rogecRjh3p1xevXbJnm0Nr0CEioRQ5/hhmRFwExAG7+T',\n",
    "    'NID_JKL': 'b+0nlz0gwdbCoxClpc3utji+0en89OQHe0BEDbaUv/Y=',\n",
    "    'nx_ssl': '2',\n",
    "    'Viking_Rise_visit_time': '1695077035991',\n",
    "    'page_uid': 'ifYbMdprvTVsse385PlssssssE0-160453',\n",
    "    'spage_uid': 'ifYbMdprvTVsse385PlssssssE0-160453',\n",
    "    'NID_SES': 'AAABxneIb+UGNfkjN7HA2gA5OlFQfYJVR367v6fonQYo1gBA+STpwnmSQKvPHCtKl9cSOobgAMZTANOk4CCrBDXAZ+8+xr6VQ9Ezi+8ApV32H/Cwi7PkDkvMuZ3QqwE0RmlD2gBOkdM8F5e33pm7MmNSfpFFusRSCaFir0+c2j3yksaJFDdG9PWn6RxWHTn0JXWu880PKz+pLfdysAibvruAtoxZbtdsvNi3dzUkiI74c14ilruNwmeJ+WmNLRwD79YtsmBgjQd8yEFd2P1MbddwtdfBqqrvIg9mgVAbGhHj86VEjcOAN0a8W84w7vJnGqR5AvPZp6ANSE7LBBYR6BN4RjlHsqne/i39lWovcl8zlv3X//TRlaZFjsdpIdPtHtEPum7wMp0eB+7nLpwAd3Wqz3Ku7eVW9ZH+cwnQwPuLEr3cfZT1scFz3Evmwa4DZWtNXVbACznRMQbUJMYBaN6+kt/PjN932m5O5S1ked50/18fduz9Ga5UzgUJwG86kA2Yj6uX0EJtos8uyYEuUpkHRgKtLkWwSDzI/Qq1281rtR5EslmrYPIicx0eGzIfCGV22q72LUyRwqROGp75LdZlMcC6mJd95X42HzhYacCFvSyx',\n",
    "    'sus_val': 'oosk3W1yUa/jXC7KKHHcV8KC',\n",
    "    'ncpa': '5114254|lnq2oiag|6088f8339ff87318d5466310aa33bd3df5f4ee8e|s_21a15037d5896|4a037b7e1ad4f4b2b46b7552bf557d83d6e09c69:4801924|lnq2r5yw|252c45b5b1c89d88d92fb4fd42bf99065652c3d4|s_1aec08c8356c9|4a0769694c3e60ffa7b878ff1e700b5ee7a31a93:95694|lnq2t46o|8f47110d725d91bc72e3083c0376c78965d77ffe|95694|28deee716df4986a1bc2f535eccb8e15165491ff:114|lnrg1u34|6c1e428c1fdcf6109a6e368afd36c2c6547842b5|s_1f0b6dd34481|0d9a8a153a4fd6f9e60247ee72a897423e0d11c7',\n",
    "}\n",
    "\n",
    "headers = {\n",
    "    'authority': 'search.shopping.naver.com',\n",
    "    'accept': 'application/json, text/plain, */*',\n",
    "    'accept-language': 'ko-KR,ko;q=0.9,en-US;q=0.8,en;q=0.7',\n",
    "    # 'cookie': 'NNB=6TTK2RJU3JPWG; autocomplete=use; AD_SHP_BID=23; _ga=GA1.2.1198469368.1669035888; NV_WETR_LOCATION_RGN_M=\"MDUxMTAxMTE=\"; ASID=6f5bbfa400000184fa368e5f00000067; SHP_BUCKET_ID=4; NV_WETR_LAST_ACCESS_RGN_M=\"MDUxMTAxMTE=\"; NID_AUT=xDAIttoc1Atdn7rAs4Y+rogecRjh3p1xevXbJnm0Nr0CEioRQ5/hhmRFwExAG7+T; NID_JKL=b+0nlz0gwdbCoxClpc3utji+0en89OQHe0BEDbaUv/Y=; nx_ssl=2; Viking_Rise_visit_time=1695077035991; page_uid=ifYbMdprvTVsse385PlssssssE0-160453; spage_uid=ifYbMdprvTVsse385PlssssssE0-160453; NID_SES=AAABxneIb+UGNfkjN7HA2gA5OlFQfYJVR367v6fonQYo1gBA+STpwnmSQKvPHCtKl9cSOobgAMZTANOk4CCrBDXAZ+8+xr6VQ9Ezi+8ApV32H/Cwi7PkDkvMuZ3QqwE0RmlD2gBOkdM8F5e33pm7MmNSfpFFusRSCaFir0+c2j3yksaJFDdG9PWn6RxWHTn0JXWu880PKz+pLfdysAibvruAtoxZbtdsvNi3dzUkiI74c14ilruNwmeJ+WmNLRwD79YtsmBgjQd8yEFd2P1MbddwtdfBqqrvIg9mgVAbGhHj86VEjcOAN0a8W84w7vJnGqR5AvPZp6ANSE7LBBYR6BN4RjlHsqne/i39lWovcl8zlv3X//TRlaZFjsdpIdPtHtEPum7wMp0eB+7nLpwAd3Wqz3Ku7eVW9ZH+cwnQwPuLEr3cfZT1scFz3Evmwa4DZWtNXVbACznRMQbUJMYBaN6+kt/PjN932m5O5S1ked50/18fduz9Ga5UzgUJwG86kA2Yj6uX0EJtos8uyYEuUpkHRgKtLkWwSDzI/Qq1281rtR5EslmrYPIicx0eGzIfCGV22q72LUyRwqROGp75LdZlMcC6mJd95X42HzhYacCFvSyx; sus_val=oosk3W1yUa/jXC7KKHHcV8KC; ncpa=5114254|lnq2oiag|6088f8339ff87318d5466310aa33bd3df5f4ee8e|s_21a15037d5896|4a037b7e1ad4f4b2b46b7552bf557d83d6e09c69:4801924|lnq2r5yw|252c45b5b1c89d88d92fb4fd42bf99065652c3d4|s_1aec08c8356c9|4a0769694c3e60ffa7b878ff1e700b5ee7a31a93:95694|lnq2t46o|8f47110d725d91bc72e3083c0376c78965d77ffe|95694|28deee716df4986a1bc2f535eccb8e15165491ff:114|lnrg1u34|6c1e428c1fdcf6109a6e368afd36c2c6547842b5|s_1f0b6dd34481|0d9a8a153a4fd6f9e60247ee72a897423e0d11c7',\n",
    "    'logic': 'PART',\n",
    "    'referer': 'https://search.shopping.naver.com/search/all?frm=NVSCPRO&origQuery&pagingSize=80&&productSet=total&query=%EC%84%B8%EC%A0%9C&sort=rel&timestamp=&viewType=list',\n",
    "    'sbth': 'd222b49238bd2b7f29803e2ed2f08d01eedaa3d14d24417197e36287d8d5eae0ca4c01288a05847bfed167eb56487188',\n",
    "    'sec-ch-ua': '\"Chromium\";v=\"118\", \"Google Chrome\";v=\"118\", \"Not=A?Brand\";v=\"99\"',\n",
    "    'sec-ch-ua-arch': '\"x86\"',\n",
    "    'sec-ch-ua-bitness': '\"64\"',\n",
    "    'sec-ch-ua-full-version-list': '\"Chromium\";v=\"118.0.5993.70\", \"Google Chrome\";v=\"118.0.5993.70\", \"Not=A?Brand\";v=\"99.0.0.0\"',\n",
    "    'sec-ch-ua-mobile': '?0',\n",
    "    'sec-ch-ua-model': '\"\"',\n",
    "    'sec-ch-ua-platform': '\"Windows\"',\n",
    "    'sec-ch-ua-platform-version': '\"15.0.0\"',\n",
    "    'sec-ch-ua-wow64': '?0',\n",
    "    'sec-fetch-dest': 'empty',\n",
    "    'sec-fetch-mode': 'cors',\n",
    "    'sec-fetch-site': 'same-origin',\n",
    "    'user-agent': 'Mozilla/5.0 (Windows NT 10.0; Win64; x64) AppleWebKit/537.36 (KHTML, like Gecko) Chrome/118.0.0.0 Safari/537.36',\n",
    "}"
   ]
  },
  {
   "cell_type": "code",
   "execution_count": null,
   "id": "e675c1ec",
   "metadata": {},
   "outputs": [],
   "source": [
    "# tmp = pd.DataFrame(columns=[\"relative_keyword\", \"avg_price\"])\n",
    "# tmp.to_csv(\"conditionedData/data/4_avg_sale_only_requests.csv\",index=False)"
   ]
  },
  {
   "cell_type": "code",
   "execution_count": null,
   "id": "23e02438",
   "metadata": {
    "ExecuteTime": {
     "end_time": "2023-11-22T09:52:25.473289Z",
     "start_time": "2023-11-22T09:52:14.347708Z"
    },
    "scrolled": true
   },
   "outputs": [],
   "source": [
    "df_avg_sales = pd.read_csv(\"conditionedData/data/4_avg_sale_only_requests.csv\")      \n",
    "\n",
    "num = 4959\n",
    "\n",
    "for idx,keyword in enumerate(keywords[num:]):\n",
    "    \n",
    "    params = {\n",
    "    'frm': 'NVSCPRO',\n",
    "    'pagingIndex': '1',\n",
    "    'pagingSize': '80',\n",
    "    'productSet': 'total',\n",
    "    'query': f\"{keyword}\",\n",
    "    'sort': 'rel',\n",
    "    'viewType': 'list',\n",
    "    }\n",
    "\n",
    "    response = requests.get('https://search.shopping.naver.com/api/search/all', params=params, cookies=cookies, headers=headers)\n",
    "    itemlist = json.loads(response.text)\n",
    "\n",
    "    sales_lst = []\n",
    "    cnt = 0\n",
    "    \n",
    "    try :\n",
    "        \n",
    "        for idx,product in enumerate(itemlist['shoppingResult']['products']):\n",
    "            purchaseCnt = product['purchaseCnt']\n",
    "            price = product['price']\n",
    "\n",
    "            purchaseCnt = purchaseCnt\n",
    "            price =  int(price)\n",
    "\n",
    "            sales = purchaseCnt * price\n",
    "\n",
    "            if sales > 0 : \n",
    "                sales_lst.append(sales)\n",
    "\n",
    "        try:\n",
    "            avg_sales = int(np.mean(sales_lst)/6)  # 6개월 기준으로 뽑혀서 나눔\n",
    "        except :\n",
    "            avg_sales = None\n",
    "            \n",
    "    except : \n",
    "        avg_sales = None\n",
    "\n",
    "    tmp = pd.DataFrame({\"relative_keyword\":keyword,\"avg_sale\":[avg_sales]})    \n",
    "    df_avg_sales = pd.concat([df_avg_sales,tmp],axis=0)\n",
    "    print(f\"{num}.{keyword}: {avg_sales} \")\n",
    "    \n",
    "#     time.sleep(np.random.rand()*2)\n",
    "    \n",
    "    num += 1\n",
    "    df_avg_sales.to_csv(\"conditionedData/data/4_avg_sale_only_requests.csv\",index=False)    \n"
   ]
  },
  {
   "cell_type": "code",
   "execution_count": 5,
   "id": "2d7f7b8a",
   "metadata": {
    "ExecuteTime": {
     "end_time": "2023-12-05T09:13:13.262489Z",
     "start_time": "2023-12-05T09:13:13.205165Z"
    }
   },
   "outputs": [
    {
     "data": {
      "text/html": [
       "<div>\n",
       "<style scoped>\n",
       "    .dataframe tbody tr th:only-of-type {\n",
       "        vertical-align: middle;\n",
       "    }\n",
       "\n",
       "    .dataframe tbody tr th {\n",
       "        vertical-align: top;\n",
       "    }\n",
       "\n",
       "    .dataframe thead th {\n",
       "        text-align: right;\n",
       "    }\n",
       "</style>\n",
       "<table border=\"1\" class=\"dataframe\">\n",
       "  <thead>\n",
       "    <tr style=\"text-align: right;\">\n",
       "      <th></th>\n",
       "      <th>relative_keyword</th>\n",
       "      <th>avg_sale</th>\n",
       "    </tr>\n",
       "  </thead>\n",
       "  <tbody>\n",
       "    <tr>\n",
       "      <th>0</th>\n",
       "      <td>앱코키보드</td>\n",
       "      <td>548445.0</td>\n",
       "    </tr>\n",
       "    <tr>\n",
       "      <th>1</th>\n",
       "      <td>키즈경량패딩</td>\n",
       "      <td>1002830.0</td>\n",
       "    </tr>\n",
       "    <tr>\n",
       "      <th>2</th>\n",
       "      <td>후쿠오카버스투어</td>\n",
       "      <td>7110358.0</td>\n",
       "    </tr>\n",
       "    <tr>\n",
       "      <th>3</th>\n",
       "      <td>식전영상</td>\n",
       "      <td>1019754.0</td>\n",
       "    </tr>\n",
       "    <tr>\n",
       "      <th>4</th>\n",
       "      <td>꾸셀파운데이션</td>\n",
       "      <td>NaN</td>\n",
       "    </tr>\n",
       "    <tr>\n",
       "      <th>...</th>\n",
       "      <td>...</td>\n",
       "      <td>...</td>\n",
       "    </tr>\n",
       "    <tr>\n",
       "      <th>19919</th>\n",
       "      <td>EMIS가방</td>\n",
       "      <td>645968.0</td>\n",
       "    </tr>\n",
       "    <tr>\n",
       "      <th>19920</th>\n",
       "      <td>나이키에코백</td>\n",
       "      <td>116761.0</td>\n",
       "    </tr>\n",
       "    <tr>\n",
       "      <th>19921</th>\n",
       "      <td>아페쎄에코백</td>\n",
       "      <td>731364.0</td>\n",
       "    </tr>\n",
       "    <tr>\n",
       "      <th>19922</th>\n",
       "      <td>이미스호보백</td>\n",
       "      <td>786907.0</td>\n",
       "    </tr>\n",
       "    <tr>\n",
       "      <th>19923</th>\n",
       "      <td>명품에코백</td>\n",
       "      <td>434007.0</td>\n",
       "    </tr>\n",
       "  </tbody>\n",
       "</table>\n",
       "<p>19924 rows × 2 columns</p>\n",
       "</div>"
      ],
      "text/plain": [
       "      relative_keyword   avg_sale\n",
       "0                앱코키보드   548445.0\n",
       "1               키즈경량패딩  1002830.0\n",
       "2             후쿠오카버스투어  7110358.0\n",
       "3                 식전영상  1019754.0\n",
       "4              꾸셀파운데이션        NaN\n",
       "...                ...        ...\n",
       "19919           EMIS가방   645968.0\n",
       "19920           나이키에코백   116761.0\n",
       "19921           아페쎄에코백   731364.0\n",
       "19922           이미스호보백   786907.0\n",
       "19923            명품에코백   434007.0\n",
       "\n",
       "[19924 rows x 2 columns]"
      ]
     },
     "execution_count": 5,
     "metadata": {},
     "output_type": "execute_result"
    }
   ],
   "source": [
    "pd.options.display.max_rows = 100\n",
    "avg_sale = pd.read_csv(\"conditionedData/data/4_avg_sale/4_avg_sale_only_requests.csv\")\n",
    "avg_sale"
   ]
  },
  {
   "cell_type": "markdown",
   "id": "2e596f94",
   "metadata": {},
   "source": [
    " \n"
   ]
  },
  {
   "cell_type": "markdown",
   "id": "9f2280c9",
   "metadata": {},
   "source": [
    " "
   ]
  },
  {
   "cell_type": "markdown",
   "id": "51e08231",
   "metadata": {},
   "source": [
    "<font color=\"Maroon\" size=\"5\"><b>avg_sale 합치고 결측치 제거</b></font>"
   ]
  },
  {
   "cell_type": "code",
   "execution_count": 6,
   "id": "ba155d1d",
   "metadata": {
    "ExecuteTime": {
     "end_time": "2023-12-05T09:13:16.205955Z",
     "start_time": "2023-12-05T09:13:16.154827Z"
    }
   },
   "outputs": [
    {
     "data": {
      "text/html": [
       "<div>\n",
       "<style scoped>\n",
       "    .dataframe tbody tr th:only-of-type {\n",
       "        vertical-align: middle;\n",
       "    }\n",
       "\n",
       "    .dataframe tbody tr th {\n",
       "        vertical-align: top;\n",
       "    }\n",
       "\n",
       "    .dataframe thead th {\n",
       "        text-align: right;\n",
       "    }\n",
       "</style>\n",
       "<table border=\"1\" class=\"dataframe\">\n",
       "  <thead>\n",
       "    <tr style=\"text-align: right;\">\n",
       "      <th></th>\n",
       "      <th>relative_keyword</th>\n",
       "      <th>total_search</th>\n",
       "      <th>total_store_count</th>\n",
       "      <th>competitive_rate</th>\n",
       "      <th>avg_price</th>\n",
       "      <th>avg_sale</th>\n",
       "    </tr>\n",
       "  </thead>\n",
       "  <tbody>\n",
       "    <tr>\n",
       "      <th>0</th>\n",
       "      <td>앱코키보드</td>\n",
       "      <td>14530.0</td>\n",
       "      <td>40613.0</td>\n",
       "      <td>2.80</td>\n",
       "      <td>73669.0</td>\n",
       "      <td>548445.0</td>\n",
       "    </tr>\n",
       "    <tr>\n",
       "      <th>1</th>\n",
       "      <td>키즈경량패딩</td>\n",
       "      <td>28730.0</td>\n",
       "      <td>76995.0</td>\n",
       "      <td>2.68</td>\n",
       "      <td>76983.0</td>\n",
       "      <td>1002830.0</td>\n",
       "    </tr>\n",
       "    <tr>\n",
       "      <th>2</th>\n",
       "      <td>후쿠오카버스투어</td>\n",
       "      <td>22720.0</td>\n",
       "      <td>546.0</td>\n",
       "      <td>0.02</td>\n",
       "      <td>58505.0</td>\n",
       "      <td>7110358.0</td>\n",
       "    </tr>\n",
       "    <tr>\n",
       "      <th>3</th>\n",
       "      <td>식전영상</td>\n",
       "      <td>27600.0</td>\n",
       "      <td>432.0</td>\n",
       "      <td>0.02</td>\n",
       "      <td>33231.0</td>\n",
       "      <td>1019754.0</td>\n",
       "    </tr>\n",
       "    <tr>\n",
       "      <th>4</th>\n",
       "      <td>꾸셀파운데이션</td>\n",
       "      <td>2310.0</td>\n",
       "      <td>9.0</td>\n",
       "      <td>0.00</td>\n",
       "      <td>19756.0</td>\n",
       "      <td>NaN</td>\n",
       "    </tr>\n",
       "    <tr>\n",
       "      <th>...</th>\n",
       "      <td>...</td>\n",
       "      <td>...</td>\n",
       "      <td>...</td>\n",
       "      <td>...</td>\n",
       "      <td>...</td>\n",
       "      <td>...</td>\n",
       "    </tr>\n",
       "    <tr>\n",
       "      <th>19919</th>\n",
       "      <td>EMIS가방</td>\n",
       "      <td>12380.0</td>\n",
       "      <td>7205.0</td>\n",
       "      <td>0.58</td>\n",
       "      <td>43951.0</td>\n",
       "      <td>645968.0</td>\n",
       "    </tr>\n",
       "    <tr>\n",
       "      <th>19920</th>\n",
       "      <td>나이키에코백</td>\n",
       "      <td>6410.0</td>\n",
       "      <td>1839.0</td>\n",
       "      <td>0.29</td>\n",
       "      <td>11203.0</td>\n",
       "      <td>116761.0</td>\n",
       "    </tr>\n",
       "    <tr>\n",
       "      <th>19921</th>\n",
       "      <td>아페쎄에코백</td>\n",
       "      <td>9960.0</td>\n",
       "      <td>12389.0</td>\n",
       "      <td>1.24</td>\n",
       "      <td>86765.0</td>\n",
       "      <td>731364.0</td>\n",
       "    </tr>\n",
       "    <tr>\n",
       "      <th>19922</th>\n",
       "      <td>이미스호보백</td>\n",
       "      <td>11450.0</td>\n",
       "      <td>1839.0</td>\n",
       "      <td>0.16</td>\n",
       "      <td>43885.0</td>\n",
       "      <td>786907.0</td>\n",
       "    </tr>\n",
       "    <tr>\n",
       "      <th>19923</th>\n",
       "      <td>명품에코백</td>\n",
       "      <td>5400.0</td>\n",
       "      <td>48183.0</td>\n",
       "      <td>8.92</td>\n",
       "      <td>40870.0</td>\n",
       "      <td>434007.0</td>\n",
       "    </tr>\n",
       "  </tbody>\n",
       "</table>\n",
       "<p>19924 rows × 6 columns</p>\n",
       "</div>"
      ],
      "text/plain": [
       "      relative_keyword  total_search  total_store_count  competitive_rate  \\\n",
       "0                앱코키보드       14530.0            40613.0              2.80   \n",
       "1               키즈경량패딩       28730.0            76995.0              2.68   \n",
       "2             후쿠오카버스투어       22720.0              546.0              0.02   \n",
       "3                 식전영상       27600.0              432.0              0.02   \n",
       "4              꾸셀파운데이션        2310.0                9.0              0.00   \n",
       "...                ...           ...                ...               ...   \n",
       "19919           EMIS가방       12380.0             7205.0              0.58   \n",
       "19920           나이키에코백        6410.0             1839.0              0.29   \n",
       "19921           아페쎄에코백        9960.0            12389.0              1.24   \n",
       "19922           이미스호보백       11450.0             1839.0              0.16   \n",
       "19923            명품에코백        5400.0            48183.0              8.92   \n",
       "\n",
       "       avg_price   avg_sale  \n",
       "0        73669.0   548445.0  \n",
       "1        76983.0  1002830.0  \n",
       "2        58505.0  7110358.0  \n",
       "3        33231.0  1019754.0  \n",
       "4        19756.0        NaN  \n",
       "...          ...        ...  \n",
       "19919    43951.0   645968.0  \n",
       "19920    11203.0   116761.0  \n",
       "19921    86765.0   731364.0  \n",
       "19922    43885.0   786907.0  \n",
       "19923    40870.0   434007.0  \n",
       "\n",
       "[19924 rows x 6 columns]"
      ]
     },
     "execution_count": 6,
     "metadata": {},
     "output_type": "execute_result"
    }
   ],
   "source": [
    "data = pd.merge(data,avg_sale, on = \"relative_keyword\")\n",
    "data"
   ]
  },
  {
   "cell_type": "code",
   "execution_count": null,
   "id": "3129f678",
   "metadata": {},
   "outputs": [],
   "source": [
    "new_data = data.dropna()\n",
    "dropped_data = data[~data.index.isin(new_data.index)]"
   ]
  },
  {
   "cell_type": "code",
   "execution_count": null,
   "id": "02c009f1",
   "metadata": {},
   "outputs": [],
   "source": [
    "pd.options.display.max_rows = None  \n",
    "new_data"
   ]
  },
  {
   "cell_type": "code",
   "execution_count": null,
   "id": "6a6d1c53",
   "metadata": {},
   "outputs": [],
   "source": [
    "\"\"\"키워드에 대한 정보들이 대부분 너무 없음\"\"\"\n",
    "dropped_data"
   ]
  },
  {
   "cell_type": "code",
   "execution_count": null,
   "id": "c225bc6f",
   "metadata": {
    "ExecuteTime": {
     "end_time": "2023-11-22T09:51:08.115686Z",
     "start_time": "2023-11-22T09:51:08.096699Z"
    }
   },
   "outputs": [],
   "source": [
    "\"\"\"new_data를 정리 후 4_avg_sale_requests 파일로 저장\"\"\"\n",
    "new_data.index =  np.arange(len(new_data[\"total_search\"]))\n",
    "new_data.to_csv(\"conditionedData/data/4_avg_sale/4_avg_sale_requests.csv\",index=False)   "
   ]
  },
  {
   "cell_type": "code",
   "execution_count": null,
   "id": "ea52256a",
   "metadata": {},
   "outputs": [],
   "source": [
    "pd.read_csv(\"conditionedData/data/4_avg_sale/4_avg_sale_requests.csv\")"
   ]
  },
  {
   "cell_type": "markdown",
   "id": "d077db9c",
   "metadata": {},
   "source": [
    " "
   ]
  },
  {
   "cell_type": "markdown",
   "id": "c522a186",
   "metadata": {},
   "source": [
    " "
   ]
  },
  {
   "cell_type": "markdown",
   "id": "528b4186",
   "metadata": {},
   "source": [
    " "
   ]
  },
  {
   "cell_type": "markdown",
   "id": "c23df746",
   "metadata": {},
   "source": [
    " "
   ]
  },
  {
   "cell_type": "markdown",
   "id": "1b092584",
   "metadata": {},
   "source": [
    " "
   ]
  },
  {
   "cell_type": "markdown",
   "id": "20e01671",
   "metadata": {},
   "source": [
    " "
   ]
  },
  {
   "cell_type": "markdown",
   "id": "1e467c39",
   "metadata": {},
   "source": [
    " "
   ]
  },
  {
   "cell_type": "markdown",
   "id": "042b2476",
   "metadata": {},
   "source": [
    " "
   ]
  },
  {
   "cell_type": "markdown",
   "id": "ccd4561f",
   "metadata": {},
   "source": [
    " "
   ]
  },
  {
   "cell_type": "markdown",
   "id": "1a3e0bcd",
   "metadata": {},
   "source": [
    " "
   ]
  },
  {
   "cell_type": "markdown",
   "id": "9daa7c54",
   "metadata": {},
   "source": [
    " "
   ]
  },
  {
   "cell_type": "markdown",
   "id": "dac24ca1",
   "metadata": {},
   "source": [
    "<font color=\"Maroon\" size=\"5\"><b>TEST CELL</b></font>"
   ]
  },
  {
   "cell_type": "code",
   "execution_count": null,
   "id": "f2d9b961",
   "metadata": {},
   "outputs": [],
   "source": [
    "params = {\n",
    "    'frm': 'NVSCPRO',\n",
    "    'pagingIndex': '1',\n",
    "    'pagingSize': '80',\n",
    "    'productSet': 'total',\n",
    "    'query': \"샘트라이크100\",\n",
    "    'sort': 'rel',\n",
    "    'viewType': 'list',\n",
    "    }\n",
    "response = requests.get('https://search.shopping.naver.com/api/search/all', params=params, cookies=cookies, headers=headers)\n",
    "itemlist = json.loads(response.text)\n",
    "itemlist"
   ]
  },
  {
   "cell_type": "code",
   "execution_count": null,
   "id": "983f1162",
   "metadata": {},
   "outputs": [],
   "source": [
    "keyword"
   ]
  },
  {
   "cell_type": "code",
   "execution_count": null,
   "id": "bc220bfe",
   "metadata": {
    "scrolled": true
   },
   "outputs": [],
   "source": [
    "params = {\n",
    "    'frm': 'NVSCPRO',\n",
    "    'pagingIndex': '1',\n",
    "    'pagingSize': '80',\n",
    "    'productSet': 'total',\n",
    "    'query': f\"{keyword}\",\n",
    "    'sort': 'rel',\n",
    "    'viewType': 'list',\n",
    "    }\n",
    "response = requests.get('https://search.shopping.naver.com/api/search/all', params=params, cookies=cookies, headers=headers)\n",
    "itemlist = json.loads(response.text)\n",
    "itemlist"
   ]
  }
 ],
 "metadata": {
  "kernelspec": {
   "display_name": "Python 3 (ipykernel)",
   "language": "python",
   "name": "python3"
  },
  "language_info": {
   "codemirror_mode": {
    "name": "ipython",
    "version": 3
   },
   "file_extension": ".py",
   "mimetype": "text/x-python",
   "name": "python",
   "nbconvert_exporter": "python",
   "pygments_lexer": "ipython3",
   "version": "3.10.0rc2"
  },
  "toc": {
   "base_numbering": 1,
   "nav_menu": {},
   "number_sections": true,
   "sideBar": true,
   "skip_h1_title": false,
   "title_cell": "Table of Contents",
   "title_sidebar": "Contents",
   "toc_cell": false,
   "toc_position": {},
   "toc_section_display": true,
   "toc_window_display": false
  }
 },
 "nbformat": 4,
 "nbformat_minor": 5
}
