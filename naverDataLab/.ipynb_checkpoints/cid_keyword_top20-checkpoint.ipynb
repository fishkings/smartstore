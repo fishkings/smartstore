{
 "cells": [
  {
   "cell_type": "code",
   "execution_count": null,
   "id": "4141e44b",
   "metadata": {},
   "outputs": [],
   "source": [
    "import requests\n",
    "from bs4 import BeautifulSoup\n",
    "import json\n",
    "import time\n",
    "import numpy as np\n",
    "import pandas as pd\n",
    "import os"
   ]
  },
  {
   "cell_type": "code",
   "execution_count": null,
   "id": "9f2cdd8e",
   "metadata": {},
   "outputs": [],
   "source": [
    "os.chdir(\"../../smartstore\")"
   ]
  },
  {
   "cell_type": "code",
   "execution_count": null,
   "id": "a2447b4e",
   "metadata": {},
   "outputs": [],
   "source": [
    "os.getcwd()"
   ]
  },
  {
   "cell_type": "code",
   "execution_count": null,
   "id": "be72cee7",
   "metadata": {},
   "outputs": [],
   "source": [
    "pd.set_option('display.max_rows', None)\n",
    "cids = pd.read_csv(r\"primaryCategoryDate/cid_life_keyword.csv\")\n",
    "cids"
   ]
  },
  {
   "cell_type": "code",
   "execution_count": null,
   "id": "ae111bb7",
   "metadata": {},
   "outputs": [],
   "source": [
    "pd.set_option('display.max_rows', 100)"
   ]
  },
  {
   "cell_type": "code",
   "execution_count": null,
   "id": "e423301f",
   "metadata": {},
   "outputs": [],
   "source": [
    "cookies = {\n",
    "    'NNB': '6TTK2RJU3JPWG',\n",
    "    '_ga': 'GA1.2.1198469368.1669035888',\n",
    "    'NV_WETR_LOCATION_RGN_M': '\"MDUxMTAxMTE=\"',\n",
    "    'ASID': '6f5bbfa400000184fa368e5f00000067',\n",
    "    'NV_WETR_LAST_ACCESS_RGN_M': '\"MDUxMTAxMTE=\"',\n",
    "    'NID_AUT': 'xDAIttoc1Atdn7rAs4Y+rogecRjh3p1xevXbJnm0Nr0CEioRQ5/hhmRFwExAG7+T',\n",
    "    'NID_JKL': 'b+0nlz0gwdbCoxClpc3utji+0en89OQHe0BEDbaUv/Y=',\n",
    "    'nx_ssl': '2',\n",
    "    'NID_SES': 'AAABxW96fmGBkYLgQP7XsDZmXQS4ITPynaSB0/RQ8Prr3Iob25o6H0eNLg4e0YNj8iARRCjdtzpdDnd32ITPTYyenrUb9MrUpirj+uo8bRrQHndYomWvU1x3libSu1ezIltql4cBAMBNpvYYbkj2eBCX7NzKtiCpt4I1+jl+nlM7CCcScrHaWdq7KeLFdLOhL3OsxGeCvDo3L2HOyhZvnqjACF9o02WkxvtBqDT0gTG6mbTBSQ0774hm3rTu9bBvIYdadFB41VGCtnKqA9qDWamzdm3NaUrcMuMVqEwNz3UJWTOerP/UdG1gxO6MvvNSvGbcUWNZ4zYAqFosY2oCBAiBz4zSYNIlOyyvkjpDDb8sCKg9Engwsm/Jr9A9iHgjXkBFEeOfNyrdSjqcot7x/6watRyvryn1CyOdd2poOn1sPsiVPBOKsGPW5VeOia32l0IcP3ZrfbD3L52lSmD1WFT0Ql0ACJUFlh5eYHeCrzt2q5CUoWmId+p81CsKqEQ0rnIa0GURF0EN9eo7bniTU/Yjq1da6Lostm32N69c4kkCADeRMTM+PuVhB097FRxmt2ZunoWMVIRHEeBj5MkMrGv+dhy9QhphQKXslvQ7yCtGfExR',\n",
    "    '_datalab_cid': '50000000',\n",
    "}\n",
    "\n",
    "headers = {\n",
    "    'authority': 'datalab.naver.com',\n",
    "    'accept': '*/*',\n",
    "    'accept-language': 'ko-KR,ko;q=0.9,en-US;q=0.8,en;q=0.7',\n",
    "    'content-type': 'application/x-www-form-urlencoded; charset=UTF-8',\n",
    "    # 'cookie': 'NNB=6TTK2RJU3JPWG; _ga=GA1.2.1198469368.1669035888; NV_WETR_LOCATION_RGN_M=\"MDUxMTAxMTE=\"; ASID=6f5bbfa400000184fa368e5f00000067; NV_WETR_LAST_ACCESS_RGN_M=\"MDUxMTAxMTE=\"; NID_AUT=xDAIttoc1Atdn7rAs4Y+rogecRjh3p1xevXbJnm0Nr0CEioRQ5/hhmRFwExAG7+T; NID_JKL=b+0nlz0gwdbCoxClpc3utji+0en89OQHe0BEDbaUv/Y=; nx_ssl=2; NID_SES=AAABxW96fmGBkYLgQP7XsDZmXQS4ITPynaSB0/RQ8Prr3Iob25o6H0eNLg4e0YNj8iARRCjdtzpdDnd32ITPTYyenrUb9MrUpirj+uo8bRrQHndYomWvU1x3libSu1ezIltql4cBAMBNpvYYbkj2eBCX7NzKtiCpt4I1+jl+nlM7CCcScrHaWdq7KeLFdLOhL3OsxGeCvDo3L2HOyhZvnqjACF9o02WkxvtBqDT0gTG6mbTBSQ0774hm3rTu9bBvIYdadFB41VGCtnKqA9qDWamzdm3NaUrcMuMVqEwNz3UJWTOerP/UdG1gxO6MvvNSvGbcUWNZ4zYAqFosY2oCBAiBz4zSYNIlOyyvkjpDDb8sCKg9Engwsm/Jr9A9iHgjXkBFEeOfNyrdSjqcot7x/6watRyvryn1CyOdd2poOn1sPsiVPBOKsGPW5VeOia32l0IcP3ZrfbD3L52lSmD1WFT0Ql0ACJUFlh5eYHeCrzt2q5CUoWmId+p81CsKqEQ0rnIa0GURF0EN9eo7bniTU/Yjq1da6Lostm32N69c4kkCADeRMTM+PuVhB097FRxmt2ZunoWMVIRHEeBj5MkMrGv+dhy9QhphQKXslvQ7yCtGfExR; _datalab_cid=50000000',\n",
    "    'origin': 'https://datalab.naver.com',\n",
    "    'referer': 'https://datalab.naver.com/shoppingInsight/sCategory.naver',\n",
    "    'sec-ch-ua': '\"Google Chrome\";v=\"119\", \"Chromium\";v=\"119\", \"Not?A_Brand\";v=\"24\"',\n",
    "    'sec-ch-ua-mobile': '?0',\n",
    "    'sec-ch-ua-platform': '\"Windows\"',\n",
    "    'sec-fetch-dest': 'empty',\n",
    "    'sec-fetch-mode': 'cors',\n",
    "    'sec-fetch-site': 'same-origin',\n",
    "    'user-agent': 'Mozilla/5.0 (Windows NT 10.0; Win64; x64) AppleWebKit/537.36 (KHTML, like Gecko) Chrome/119.0.0.0 Safari/537.36',\n",
    "    'x-requested-with': 'XMLHttpRequest',\n",
    "}"
   ]
  },
  {
   "cell_type": "code",
   "execution_count": null,
   "id": "4d47e139",
   "metadata": {},
   "outputs": [],
   "source": [
    "# 새롭게 만든 new_row의 컬럼 (int형으로하면 이상한 프레임 만들어짐)\n",
    "columns_2 = np.arange(20)\n",
    "columns_2 = list(columns_2.astype(str))\n",
    "columns_1 = [\"cid\",\"title\"]\n",
    "columns = columns_1 + columns_2\n",
    "\n",
    "startDate = '2022-12-06'\n",
    "endDate = '2023-12-06'\n",
    "\n",
    "num = 0\n",
    "\n",
    "# cid를 추출해서 top 20까지 출력\n",
    "for idx,cid in enumerate(cids[\"cid\"][num:]):\n",
    "    \n",
    "    df_keyword = pd.read_csv(\"primaryCategoryDate/231206_cid_keyword/category_search_top20_231206.csv\")\n",
    "\n",
    "    \n",
    "    keyword_lst = [cids[\"cid\"][idx+num],cids[\"title\"][idx+num]]\n",
    "\n",
    "    data = {\n",
    "        'cid': cid,\n",
    "        'timeUnit': 'date',\n",
    "        'startDate': startDate,  \n",
    "        'endDate': endDate,\n",
    "        'age': '',\n",
    "        'gender': '',\n",
    "        'device': '',\n",
    "        'page': '1',\n",
    "        'count': '20',\n",
    "    }\n",
    "\n",
    "    time.sleep(np.random.rand())\n",
    "\n",
    "    response = requests.post(\n",
    "      'https://datalab.naver.com/shoppingInsight/getCategoryKeywordRank.naver',\n",
    "        cookies=cookies,\n",
    "        headers=headers,\n",
    "        data=data,\n",
    "    )\n",
    "\n",
    "    keywords = json.loads(response.text)\n",
    "\n",
    "    for idx,rank in enumerate(keywords[\"ranks\"]):\n",
    "        keyword_lst.append(rank['keyword'])\n",
    "\n",
    "    new_row = pd.DataFrame(keyword_lst).T\n",
    "    new_row.columns = columns\n",
    "    print(new_row)\n",
    "#     df_keyword = pd.concat([df_keyword,new_row], axis=0, ignore_index=True)\n",
    "#     df_keyword.to_csv(\"primaryCategoryDate/231206_cid_keyword/category_search_top20_231206.csv\",index=False)\n",
    "    \n",
    "#     num += 1\n",
    "    \n",
    "#     print(f\"{num}\" ,end = \"\\t\")\n"
   ]
  },
  {
   "cell_type": "code",
   "execution_count": null,
   "id": "14f207e7",
   "metadata": {},
   "outputs": [],
   "source": []
  },
  {
   "cell_type": "code",
   "execution_count": null,
   "id": "e9cef877",
   "metadata": {},
   "outputs": [],
   "source": []
  },
  {
   "cell_type": "code",
   "execution_count": null,
   "id": "e87cd56c",
   "metadata": {},
   "outputs": [],
   "source": []
  },
  {
   "cell_type": "code",
   "execution_count": null,
   "id": "5c9da70c",
   "metadata": {},
   "outputs": [],
   "source": []
  },
  {
   "cell_type": "code",
   "execution_count": null,
   "id": "7faff264",
   "metadata": {},
   "outputs": [],
   "source": []
  },
  {
   "cell_type": "code",
   "execution_count": null,
   "id": "ea50da42",
   "metadata": {},
   "outputs": [],
   "source": []
  },
  {
   "cell_type": "code",
   "execution_count": null,
   "id": "2f458460",
   "metadata": {},
   "outputs": [],
   "source": []
  },
  {
   "cell_type": "code",
   "execution_count": null,
   "id": "2691feb2",
   "metadata": {},
   "outputs": [],
   "source": []
  }
 ],
 "metadata": {
  "kernelspec": {
   "display_name": "Python 3 (ipykernel)",
   "language": "python",
   "name": "python3"
  },
  "language_info": {
   "codemirror_mode": {
    "name": "ipython",
    "version": 3
   },
   "file_extension": ".py",
   "mimetype": "text/x-python",
   "name": "python",
   "nbconvert_exporter": "python",
   "pygments_lexer": "ipython3",
   "version": "3.10.0rc2"
  }
 },
 "nbformat": 4,
 "nbformat_minor": 5
}
